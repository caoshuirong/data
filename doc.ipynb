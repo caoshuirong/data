{
 "cells": [
  {
   "cell_type": "code",
   "execution_count": 7,
   "id": "7fe3eb1e",
   "metadata": {},
   "outputs": [],
   "source": [
    "import torch\n",
    "from torch.utils.data import DataLoader\n",
    "import torch.nn as nn"
   ]
  },
  {
   "cell_type": "code",
   "execution_count": 13,
   "id": "418346aa",
   "metadata": {},
   "outputs": [
    {
     "name": "stdout",
     "output_type": "stream",
     "text": [
      "Help on function save in module torch.serialization:\n",
      "\n",
      "save(obj, f: Union[str, os.PathLike, BinaryIO, IO[bytes]], pickle_module=<module 'pickle' from 'D:\\\\Anaconda3\\\\envs\\\\torch_cpu\\\\lib\\\\pickle.py'>, pickle_protocol=2, _use_new_zipfile_serialization=True) -> None\n",
      "    save(obj, f, pickle_module=pickle, pickle_protocol=DEFAULT_PROTOCOL, _use_new_zipfile_serialization=True)\n",
      "    \n",
      "    Saves an object to a disk file.\n",
      "    \n",
      "    See also: :ref:`saving-loading-tensors`\n",
      "    \n",
      "    Args:\n",
      "        obj: saved object\n",
      "        f: a file-like object (has to implement write and flush) or a string or\n",
      "           os.PathLike object containing a file name\n",
      "        pickle_module: module used for pickling metadata and objects\n",
      "        pickle_protocol: can be specified to override the default protocol\n",
      "    \n",
      "    .. note::\n",
      "        A common PyTorch convention is to save tensors using .pt file extension.\n",
      "    \n",
      "    .. note::\n",
      "        PyTorch preserves storage sharing across serialization. See\n",
      "        :ref:`preserve-storage-sharing` for more details.\n",
      "    \n",
      "    .. note::\n",
      "        The 1.6 release of PyTorch switched ``torch.save`` to use a new\n",
      "        zipfile-based file format. ``torch.load`` still retains the ability to\n",
      "        load files in the old format. If for any reason you want ``torch.save``\n",
      "        to use the old format, pass the kwarg ``_use_new_zipfile_serialization=False``.\n",
      "    \n",
      "    Example:\n",
      "        >>> # Save to file\n",
      "        >>> x = torch.tensor([0, 1, 2, 3, 4])\n",
      "        >>> torch.save(x, 'tensor.pt')\n",
      "        >>> # Save to io.BytesIO buffer\n",
      "        >>> buffer = io.BytesIO()\n",
      "        >>> torch.save(x, buffer)\n",
      "\n"
     ]
    }
   ],
   "source": [
    "help(torch.save)"
   ]
  },
  {
   "cell_type": "code",
   "execution_count": null,
   "id": "d044faa0",
   "metadata": {},
   "outputs": [],
   "source": []
  }
 ],
 "metadata": {
  "kernelspec": {
   "display_name": "Python 3 (ipykernel)",
   "language": "python",
   "name": "python3"
  },
  "language_info": {
   "codemirror_mode": {
    "name": "ipython",
    "version": 3
   },
   "file_extension": ".py",
   "mimetype": "text/x-python",
   "name": "python",
   "nbconvert_exporter": "python",
   "pygments_lexer": "ipython3",
   "version": "3.7.11"
  }
 },
 "nbformat": 4,
 "nbformat_minor": 5
}
